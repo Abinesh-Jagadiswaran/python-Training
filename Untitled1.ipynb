{
  "nbformat": 4,
  "nbformat_minor": 0,
  "metadata": {
    "colab": {
      "name": "Untitled1.ipynb",
      "provenance": [],
      "authorship_tag": "ABX9TyMaHT86dgltwJIGbHOaUcSZ",
      "include_colab_link": true
    },
    "kernelspec": {
      "name": "python3",
      "display_name": "Python 3"
    }
  },
  "cells": [
    {
      "cell_type": "markdown",
      "metadata": {
        "id": "view-in-github",
        "colab_type": "text"
      },
      "source": [
        "<a href=\"https://colab.research.google.com/github/Abinesh-Jagadiswaran/python-Training/blob/main/Untitled1.ipynb\" target=\"_parent\"><img src=\"https://colab.research.google.com/assets/colab-badge.svg\" alt=\"Open In Colab\"/></a>"
      ]
    },
    {
      "cell_type": "code",
      "metadata": {
        "id": "fKVHhhaYbhNU"
      },
      "source": [
        "def choose():\r\n",
        "  choice=\"a\"\r\n",
        "  while choice not in [\"0\",\"1\",\"2\",\"3\"]:\r\n",
        "    choice=input(\"Choose between 0 to 3: \")\r\n",
        "  if choice not in [\"0\",\"1\",\"2\",\"3\"]:\r\n",
        "    print(\"Choose between 0 to 3:\")\r\n",
        "  else:\r\n",
        "    return int(choice)"
      ],
      "execution_count": null,
      "outputs": []
    },
    {
      "cell_type": "code",
      "metadata": {
        "colab": {
          "base_uri": "https://localhost:8080/"
        },
        "id": "yj1ag425g5Al",
        "outputId": "27176bff-dab1-4712-ee60-165f13cdf592"
      },
      "source": [
        "choose()"
      ],
      "execution_count": null,
      "outputs": [
        {
          "output_type": "stream",
          "text": [
            "Choose between 0 to 3: 2\n"
          ],
          "name": "stdout"
        },
        {
          "output_type": "execute_result",
          "data": {
            "text/plain": [
              "2"
            ]
          },
          "metadata": {
            "tags": []
          },
          "execution_count": 70
        }
      ]
    },
    {
      "cell_type": "code",
      "metadata": {
        "id": "xuFikSY7hL9d"
      },
      "source": [
        "choice=[0,1,2,3,4]\r\n",
        "def replace(choice,position):\r\n",
        "  add=input(\"Replace with this name: \")\r\n",
        "  choice[position]=add\r\n",
        "  return choice"
      ],
      "execution_count": null,
      "outputs": []
    },
    {
      "cell_type": "code",
      "metadata": {
        "colab": {
          "base_uri": "https://localhost:8080/"
        },
        "id": "cpMxf3UUivrT",
        "outputId": "97255682-a749-4e96-a4ea-488a5c5aa617"
      },
      "source": [
        "replace (choice,2)"
      ],
      "execution_count": null,
      "outputs": [
        {
          "output_type": "stream",
          "text": [
            "Replace with this name: k\n"
          ],
          "name": "stdout"
        },
        {
          "output_type": "execute_result",
          "data": {
            "text/plain": [
              "[0, 1, 'k', 3, 4]"
            ]
          },
          "metadata": {
            "tags": []
          },
          "execution_count": 97
        }
      ]
    },
    {
      "cell_type": "code",
      "metadata": {
        "id": "-JGB4MTOi2VF"
      },
      "source": [
        "def display_board(board):\r\n",
        "  clear_output()\r\n",
        "  board1=[\" \",\"X\",\"0\",\"X\",\"X\",\"0\",\"X\",\"X\",\"0\",\"X\"]\r\n",
        "  clear_output()\r\n",
        "  board[7]=input(\"PRINT THE VALUES:  \")\r\n",
        "  board[1]=input(\"PRINT THE VALUES:  \")\r\n",
        "  print(board[7]+\"|\"+board[8]+\"|\"+board[9])\r\n",
        "  print(board[4]+\"|\"+board[5]+\"|\"+board[6])\r\n",
        "  print(board[1]+\"|\"+board[2]+\"|\"+board[3]) "
      ],
      "execution_count": null,
      "outputs": []
    },
    {
      "cell_type": "code",
      "metadata": {
        "colab": {
          "base_uri": "https://localhost:8080/"
        },
        "id": "5Q0w1rfWloVm",
        "outputId": "49ff25b8-a508-4fc7-e2c0-12b346cc689e"
      },
      "source": [
        " clear_output()\r\n",
        " display_board(board1)"
      ],
      "execution_count": null,
      "outputs": [
        {
          "output_type": "stream",
          "text": [
            "PRINT THE VALUES:  98\n",
            "98|0|X\n",
            "X|0|X\n",
            "10|0|X\n"
          ],
          "name": "stdout"
        }
      ]
    },
    {
      "cell_type": "code",
      "metadata": {
        "id": "qL7-ZcrGmgyP",
        "colab": {
          "base_uri": "https://localhost:8080/"
        },
        "outputId": "0a94fa0f-707f-4f12-fa74-1943ae2916cc"
      },
      "source": [
        "msg = ''\r\n",
        "while msg != 'quit':\r\n",
        " msg = input(\"What's your message? \")\r\n",
        " print(msg)\r\n"
      ],
      "execution_count": 1,
      "outputs": [
        {
          "output_type": "stream",
          "text": [
            "What's your message? hi\n",
            "hi\n",
            "What's your message? quit\n",
            "quit\n"
          ],
          "name": "stdout"
        }
      ]
    },
    {
      "cell_type": "code",
      "metadata": {
        "colab": {
          "base_uri": "https://localhost:8080/"
        },
        "id": "5Yggz93XiCy2",
        "outputId": "7c89dc5d-60d9-452b-de55-fc7533a9346d"
      },
      "source": [
        "msg=''\r\n",
        "msg1='gandhi'\r\n",
        "msg2='wrong answer'\r\n",
        "\r\n",
        "while msg!=\"a\":\r\n",
        " msg=input(\"Who is father of nation? a.gandhi b.nehru \")\r\n",
        " print(msg)"
      ],
      "execution_count": 7,
      "outputs": [
        {
          "output_type": "stream",
          "text": [
            "Who is father of nation? a.gandhi b.nehru b\n",
            "b\n",
            "Who is father of nation? a.gandhi b.nehru a\n",
            "a\n"
          ],
          "name": "stdout"
        }
      ]
    },
    {
      "cell_type": "code",
      "metadata": {
        "colab": {
          "base_uri": "https://localhost:8080/"
        },
        "id": "dlpu-NMMjzKz",
        "outputId": "b6354cff-1b6f-4941-c0db-1c58f83e6fad"
      },
      "source": [
        "def greet_user():\r\n",
        " \"\"\"Display a simple greeting.\"\"\"\r\n",
        " print(\"Hello!\")\r\n",
        "greet_user()"
      ],
      "execution_count": 8,
      "outputs": [
        {
          "output_type": "stream",
          "text": [
            "Hello!\n"
          ],
          "name": "stdout"
        }
      ]
    },
    {
      "cell_type": "code",
      "metadata": {
        "colab": {
          "base_uri": "https://localhost:8080/"
        },
        "id": "P5Gq57zdkpHO",
        "outputId": "dc744024-0d4d-47f2-a6f0-6f5931e24f74"
      },
      "source": [
        "def greet_user(username):\r\n",
        " #\"\"\"Display a personalized greeting.\"\"\"\r\n",
        " print(\"Hello, \" + username + \"!\")\r\n",
        "greet_user('jesse')"
      ],
      "execution_count": 10,
      "outputs": [
        {
          "output_type": "stream",
          "text": [
            "Hello, jesse!\n"
          ],
          "name": "stdout"
        }
      ]
    },
    {
      "cell_type": "code",
      "metadata": {
        "colab": {
          "base_uri": "https://localhost:8080/"
        },
        "id": "D24-koXWlDhF",
        "outputId": "74ec060e-306e-47b3-941c-774890dfa0f2"
      },
      "source": [
        "def make_pizza(topping='bacon'):\r\n",
        " \"\"\"Make a single-topping pizza.\"\"\"\r\n",
        " print(\"Have a \" + topping + \" pizza!\")\r\n",
        "make_pizza()\r\n",
        "make_pizza('pepperoni')"
      ],
      "execution_count": 11,
      "outputs": [
        {
          "output_type": "stream",
          "text": [
            "Have a bacon pizza!\n",
            "Have a pepperoni pizza!\n"
          ],
          "name": "stdout"
        }
      ]
    },
    {
      "cell_type": "code",
      "metadata": {
        "id": "kiAZ0BeqlvBY"
      },
      "source": [
        "def add_numbers(x, y):\r\n",
        " \"\"\"Add two numbers and return the sum.\"\"\"\r\n",
        " return x + y\r\n"
      ],
      "execution_count": 12,
      "outputs": []
    },
    {
      "cell_type": "code",
      "metadata": {
        "colab": {
          "base_uri": "https://localhost:8080/"
        },
        "id": "AC_6tWUtl_MP",
        "outputId": "b3ab6ee3-84a6-4932-c3b4-a219bf632ba8"
      },
      "source": [
        "add_numbers(5,10)"
      ],
      "execution_count": 13,
      "outputs": [
        {
          "output_type": "execute_result",
          "data": {
            "text/plain": [
              "15"
            ]
          },
          "metadata": {
            "tags": []
          },
          "execution_count": 13
        }
      ]
    },
    {
      "cell_type": "code",
      "metadata": {
        "id": "qcltjNKpmDfc"
      },
      "source": [
        ""
      ],
      "execution_count": null,
      "outputs": []
    }
  ]
}