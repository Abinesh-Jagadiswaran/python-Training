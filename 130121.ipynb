{
 "cells": [
  {
   "cell_type": "code",
   "execution_count": 143,
   "metadata": {},
   "outputs": [],
   "source": [
    "mylist=[1,51]"
   ]
  },
  {
   "cell_type": "code",
   "execution_count": 109,
   "metadata": {},
   "outputs": [
    {
     "data": {
      "text/plain": [
       "[0, 2, 4, 6, 8]"
      ]
     },
     "execution_count": 109,
     "metadata": {},
     "output_type": "execute_result"
    }
   ],
   "source": [
    "list(range(0,10,2))"
   ]
  },
  {
   "cell_type": "code",
   "execution_count": 32,
   "metadata": {},
   "outputs": [
    {
     "name": "stdout",
     "output_type": "stream",
     "text": [
      "1\n",
      "2\n",
      "3\n",
      "4\n",
      "5\n",
      "6\n",
      "7\n",
      "8\n",
      "9\n"
     ]
    }
   ],
   "source": [
    "for num in range(1,10):\n",
    "    num/2==0    \n",
    "    print(num)\n",
    "    "
   ]
  },
  {
   "cell_type": "code",
   "execution_count": 53,
   "metadata": {},
   "outputs": [],
   "source": [
    "st = 'Print every word in this sentence that has an even number of letters'"
   ]
  },
  {
   "cell_type": "code",
   "execution_count": 54,
   "metadata": {},
   "outputs": [
    {
     "name": "stdout",
     "output_type": "stream",
     "text": [
      "Even\n"
     ]
    }
   ],
   "source": [
    "if len(st)%2==0:\n",
    "    print(\"Even\")\n",
    "else:\n",
    "    print(\"odd\")"
   ]
  },
  {
   "cell_type": "code",
   "execution_count": 74,
   "metadata": {},
   "outputs": [],
   "source": [
    "st = 'Print only the words that start with s in this sentence'"
   ]
  },
  {
   "cell_type": "code",
   "execution_count": 80,
   "metadata": {},
   "outputs": [
    {
     "ename": "SyntaxError",
     "evalue": "invalid syntax (<ipython-input-80-4a82bcbbae90>, line 1)",
     "output_type": "error",
     "traceback": [
      "\u001b[1;36m  File \u001b[1;32m\"<ipython-input-80-4a82bcbbae90>\"\u001b[1;36m, line \u001b[1;32m1\u001b[0m\n\u001b[1;33m    for \"string\" in st\u001b[0m\n\u001b[1;37m                      ^\u001b[0m\n\u001b[1;31mSyntaxError\u001b[0m\u001b[1;31m:\u001b[0m invalid syntax\n"
     ]
    }
   ],
   "source": [
    "for \"string\" in st\n",
    "    "
   ]
  },
  {
   "cell_type": "code",
   "execution_count": 101,
   "metadata": {},
   "outputs": [],
   "source": [
    "mylist={1 : 100}"
   ]
  },
  {
   "cell_type": "code",
   "execution_count": 105,
   "metadata": {},
   "outputs": [
    {
     "ename": "SyntaxError",
     "evalue": "invalid syntax (<ipython-input-105-a14496c2297e>, line 1)",
     "output_type": "error",
     "traceback": [
      "\u001b[1;36m  File \u001b[1;32m\"<ipython-input-105-a14496c2297e>\"\u001b[1;36m, line \u001b[1;32m1\u001b[0m\n\u001b[1;33m    for mylist(range(0,50,3))\u001b[0m\n\u001b[1;37m                             ^\u001b[0m\n\u001b[1;31mSyntaxError\u001b[0m\u001b[1;31m:\u001b[0m invalid syntax\n"
     ]
    }
   ],
   "source": [
    "for mylist(range(0,50,3))\n",
    "    print(\"bizz\")"
   ]
  },
  {
   "cell_type": "code",
   "execution_count": 119,
   "metadata": {},
   "outputs": [
    {
     "data": {
      "text/plain": [
       "[3, 6, 9, 12, 15, 18, 21, 24, 27, 30, 33, 36, 39, 42, 45, 48]"
      ]
     },
     "execution_count": 119,
     "metadata": {},
     "output_type": "execute_result"
    }
   ],
   "source": [
    "[list for list in range(1,51) if list%3==0]"
   ]
  },
  {
   "cell_type": "code",
   "execution_count": 120,
   "metadata": {},
   "outputs": [
    {
     "data": {
      "text/plain": [
       "[3, 6, 9, 12, 15, 18, 21, 24, 27, 30, 33, 36, 39, 42, 45, 48]"
      ]
     },
     "execution_count": 120,
     "metadata": {},
     "output_type": "execute_result"
    }
   ],
   "source": [
    "[x for x in range(1,51) if x%3 == 0]"
   ]
  },
  {
   "cell_type": "code",
   "execution_count": 121,
   "metadata": {},
   "outputs": [],
   "source": [
    "st = 'Print every word in this sentence that has an even number of letters'"
   ]
  },
  {
   "cell_type": "code",
   "execution_count": 136,
   "metadata": {},
   "outputs": [
    {
     "name": "stdout",
     "output_type": "stream",
     "text": [
      "Print is odd\n",
      "every is odd\n",
      "word is even\n",
      "in is even\n",
      "this is even\n",
      "sentence is even\n",
      "that is even\n",
      "has is odd\n",
      "an is even\n",
      "even is even\n",
      "number is even\n",
      "of is even\n",
      "letters is odd\n"
     ]
    }
   ],
   "source": [
    "for word in st.split():\n",
    "    if len(word)%2==0:\n",
    "        print(word+\" is even\")\n",
    "    else:\n",
    "        print(word+\" is odd\")"
   ]
  },
  {
   "cell_type": "code",
   "execution_count": 130,
   "metadata": {},
   "outputs": [
    {
     "name": "stdout",
     "output_type": "stream",
     "text": [
      "word <-- has an even length!\n",
      "in <-- has an even length!\n",
      "this <-- has an even length!\n",
      "sentence <-- has an even length!\n",
      "that <-- has an even length!\n",
      "an <-- has an even length!\n",
      "even <-- has an even length!\n",
      "number <-- has an even length!\n",
      "of <-- has an even length!\n"
     ]
    }
   ],
   "source": [
    "\n",
    "for word in st.split():\n",
    "    if len(word)%2 == 0:\n",
    "        print(word+\" <-- has an even length!\")"
   ]
  },
  {
   "cell_type": "code",
   "execution_count": 151,
   "metadata": {},
   "outputs": [
    {
     "name": "stdout",
     "output_type": "stream",
     "text": [
      "1\n",
      "2\n",
      "flizz\n",
      "4\n",
      "bizz\n",
      "flizz\n",
      "7\n",
      "8\n",
      "flizz\n",
      "bizz\n",
      "11\n",
      "flizz\n",
      "13\n",
      "14\n",
      "flizz bizz\n",
      "16\n",
      "17\n",
      "flizz\n",
      "19\n",
      "bizz\n",
      "flizz\n",
      "22\n",
      "23\n",
      "flizz\n",
      "bizz\n",
      "26\n",
      "flizz\n",
      "28\n",
      "29\n",
      "flizz bizz\n",
      "31\n",
      "32\n",
      "flizz\n",
      "34\n",
      "bizz\n",
      "flizz\n",
      "37\n",
      "38\n",
      "flizz\n",
      "bizz\n",
      "41\n",
      "flizz\n",
      "43\n",
      "44\n",
      "flizz bizz\n",
      "46\n",
      "47\n",
      "flizz\n",
      "49\n",
      "bizz\n"
     ]
    }
   ],
   "source": [
    "for num in range(1,51):\n",
    "    if num%3==0 and num%5==0:\n",
    "        print(\"flizz bizz\")\n",
    "    elif num%3==0:\n",
    "        print(\"flizz\")\n",
    "    elif num%5==0:\n",
    "        print(\"bizz\")\n",
    "    else:\n",
    "        print(num)"
   ]
  },
  {
   "cell_type": "code",
   "execution_count": 150,
   "metadata": {},
   "outputs": [
    {
     "ename": "IndentationError",
     "evalue": "unindent does not match any outer indentation level (<tokenize>, line 4)",
     "output_type": "error",
     "traceback": [
      "\u001b[1;36m  File \u001b[1;32m\"<tokenize>\"\u001b[1;36m, line \u001b[1;32m4\u001b[0m\n\u001b[1;33m    elif num % 3 == 0:\u001b[0m\n\u001b[1;37m    ^\u001b[0m\n\u001b[1;31mIndentationError\u001b[0m\u001b[1;31m:\u001b[0m unindent does not match any outer indentation level\n"
     ]
    }
   ],
   "source": [
    "for num in range(1,101):.\n",
    "      if num % 3 == 0 and num % 5 == 0:\n",
    "        print(\"FizzBuzz\")\n",
    "    elif num % 3 == 0:\n",
    "        print(\"Fizz\")\n",
    "    elif num % 5 == 0:\n",
    "        print(\"Buzz\")\n",
    "    else:\n",
    "        print(num)"
   ]
  },
  {
   "cell_type": "code",
   "execution_count": null,
   "metadata": {},
   "outputs": [],
   "source": []
  }
 ],
 "metadata": {
  "kernelspec": {
   "display_name": "Python 3",
   "language": "python",
   "name": "python3"
  },
  "language_info": {
   "codemirror_mode": {
    "name": "ipython",
    "version": 3
   },
   "file_extension": ".py",
   "mimetype": "text/x-python",
   "name": "python",
   "nbconvert_exporter": "python",
   "pygments_lexer": "ipython3",
   "version": "3.7.6"
  }
 },
 "nbformat": 4,
 "nbformat_minor": 4
}
